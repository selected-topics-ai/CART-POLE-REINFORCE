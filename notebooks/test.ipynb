{
 "cells": [
  {
   "cell_type": "code",
   "id": "initial_id",
   "metadata": {
    "collapsed": true,
    "ExecuteTime": {
     "end_time": "2025-03-09T17:22:09.067294Z",
     "start_time": "2025-03-09T17:22:09.065296Z"
    }
   },
   "source": [
    "import torch\n",
    "from torch.distributions.categorical import Categorical"
   ],
   "outputs": [],
   "execution_count": 3
  },
  {
   "metadata": {
    "ExecuteTime": {
     "end_time": "2025-03-09T17:22:34.270095Z",
     "start_time": "2025-03-09T17:22:34.266381Z"
    }
   },
   "cell_type": "code",
   "source": "dist = Categorical(torch.FloatTensor([0.1, 0.2, 0.7]))",
   "id": "e45e78a8478083ec",
   "outputs": [],
   "execution_count": 9
  },
  {
   "metadata": {
    "ExecuteTime": {
     "end_time": "2025-03-09T17:22:40.021360Z",
     "start_time": "2025-03-09T17:22:40.010431Z"
    }
   },
   "cell_type": "code",
   "source": "dist.probs",
   "id": "ff5970278f94cef",
   "outputs": [
    {
     "data": {
      "text/plain": [
       "tensor([0.1000, 0.2000, 0.7000])"
      ]
     },
     "execution_count": 10,
     "metadata": {},
     "output_type": "execute_result"
    }
   ],
   "execution_count": 10
  },
  {
   "metadata": {
    "ExecuteTime": {
     "end_time": "2025-03-09T17:22:45.106617Z",
     "start_time": "2025-03-09T17:22:45.100382Z"
    }
   },
   "cell_type": "code",
   "source": "dist.entropy()",
   "id": "51fe5397c4b37b1a",
   "outputs": [
    {
     "data": {
      "text/plain": [
       "tensor(0.8018)"
      ]
     },
     "execution_count": 11,
     "metadata": {},
     "output_type": "execute_result"
    }
   ],
   "execution_count": 11
  },
  {
   "metadata": {
    "ExecuteTime": {
     "end_time": "2025-03-09T19:40:06.275979Z",
     "start_time": "2025-03-09T19:40:06.265541Z"
    }
   },
   "cell_type": "code",
   "source": "[1, 2, 3] * 3",
   "id": "b29fe3769e40a3d4",
   "outputs": [
    {
     "data": {
      "text/plain": [
       "[1, 2, 3, 1, 2, 3, 1, 2, 3]"
      ]
     },
     "execution_count": 12,
     "metadata": {},
     "output_type": "execute_result"
    }
   ],
   "execution_count": 12
  },
  {
   "metadata": {},
   "cell_type": "code",
   "outputs": [],
   "execution_count": null,
   "source": "",
   "id": "a6b9027a7d2bb353"
  }
 ],
 "metadata": {
  "kernelspec": {
   "display_name": "Python 3",
   "language": "python",
   "name": "python3"
  },
  "language_info": {
   "codemirror_mode": {
    "name": "ipython",
    "version": 2
   },
   "file_extension": ".py",
   "mimetype": "text/x-python",
   "name": "python",
   "nbconvert_exporter": "python",
   "pygments_lexer": "ipython2",
   "version": "2.7.6"
  }
 },
 "nbformat": 4,
 "nbformat_minor": 5
}
